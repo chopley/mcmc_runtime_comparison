{
 "cells": [
  {
   "cell_type": "code",
   "execution_count": 1,
   "id": "3cd13ede",
   "metadata": {},
   "outputs": [
    {
     "name": "stderr",
     "output_type": "stream",
     "text": [
      "!!!!!!!!!!!!!!!!!!!!!!!!!!!!!!!!!!!!!!!!!!!!!!!!!!!!!!!!!!!!\n",
      "Your Python environment has Theano(-PyMC) 1.1.2 installed, but you are importing PyMC 4.0.0b1 which uses Aesara as its backend.\n",
      "For PyMC 4.0.0b1 to work as expected you should uninstall Theano(-PyMC).\n",
      "See https://github.com/pymc-devs/pymc/wiki for update instructions.\n",
      "!!!!!!!!!!!!!!!!!!!!!!!!!!!!!!!!!!!!!!!!!!!!!!!!!!!!!!!!!!!!\n",
      "!!!!!!!!!!!!!!!!!!!!!!!!!!!!!!!!!!!!!!!!!!!!!!!!!!!!!!!!!!!!\n",
      "You are importing PyMC 4.0.0b1, but your environment also has the legacy version PyMC3 3.11.4 installed.\n",
      "For PyMC 4.0.0b1 to work as expected you should uninstall PyMC3.\n",
      "See https://github.com/pymc-devs/pymc/wiki for update instructions.\n",
      "!!!!!!!!!!!!!!!!!!!!!!!!!!!!!!!!!!!!!!!!!!!!!!!!!!!!!!!!!!!!\n"
     ]
    }
   ],
   "source": [
    "import numpy as np\n",
    "import pandas as pd\n",
    "import matplotlib.pyplot as plt\n",
    "%matplotlib inline\n",
    "from glob import glob\n",
    "import seaborn as sns\n",
    "import arviz as az\n",
    "from os.path import join, split, splitext\n",
    "from toolz import pipe\n",
    "from fetch_data import create_arrays"
   ]
  },
  {
   "cell_type": "code",
   "execution_count": 16,
   "id": "6d7c0c66",
   "metadata": {},
   "outputs": [],
   "source": [
    "# Directory containing model runs -- change as needed\n",
    "run_dir = './pymc_vs_stan/rerun_20_12_2021///fits/'\n",
    "\n",
    "# Directory to save plots in -- change as needed\n",
    "plot_dir = './pymc_vs_stan/writeup/'\n",
    "\n",
    "# Find all runtime files:\n",
    "all_runtimes = glob(join(run_dir, '*/*.txt'))"
   ]
  },
  {
   "cell_type": "code",
   "execution_count": 17,
   "id": "3955e110",
   "metadata": {},
   "outputs": [
    {
     "data": {
      "text/plain": [
       "40"
      ]
     },
     "execution_count": 17,
     "metadata": {},
     "output_type": "execute_result"
    }
   ],
   "source": [
    "len(all_runtimes)"
   ]
  },
  {
   "cell_type": "code",
   "execution_count": 18,
   "id": "7c957869",
   "metadata": {},
   "outputs": [],
   "source": [
    "# Extract runtimes from text files \n",
    "runtimes = [float(list(open(x))[0].strip()) for x in all_runtimes]"
   ]
  },
  {
   "cell_type": "code",
   "execution_count": 19,
   "id": "89dcc6e0",
   "metadata": {},
   "outputs": [],
   "source": [
    "# Helper function to extract some more info from the filenames\n",
    "def extract_info(filenames):\n",
    "    \n",
    "    approach_names = [x.split('/')[-2] for x in filenames]\n",
    "    filenames = [split(splitext(x)[0])[-1] for x in filenames]\n",
    "    years = [int(x.split('_')[-1]) for x in filenames]\n",
    "    \n",
    "    return {'year': years, 'method': approach_names}"
   ]
  },
  {
   "cell_type": "code",
   "execution_count": 20,
   "id": "64b1156d",
   "metadata": {},
   "outputs": [],
   "source": [
    "info = extract_info(all_runtimes)\n",
    "info['runtime'] = runtimes"
   ]
  },
  {
   "cell_type": "code",
   "execution_count": 21,
   "id": "c23d1e35",
   "metadata": {},
   "outputs": [],
   "source": [
    "results = pd.DataFrame(info)"
   ]
  },
  {
   "cell_type": "code",
   "execution_count": 22,
   "id": "05dbad49",
   "metadata": {},
   "outputs": [
    {
     "data": {
      "text/html": [
       "<div>\n",
       "<style scoped>\n",
       "    .dataframe tbody tr th:only-of-type {\n",
       "        vertical-align: middle;\n",
       "    }\n",
       "\n",
       "    .dataframe tbody tr th {\n",
       "        vertical-align: top;\n",
       "    }\n",
       "\n",
       "    .dataframe thead th {\n",
       "        text-align: right;\n",
       "    }\n",
       "</style>\n",
       "<table border=\"1\" class=\"dataframe\">\n",
       "  <thead>\n",
       "    <tr style=\"text-align: right;\">\n",
       "      <th></th>\n",
       "      <th>year</th>\n",
       "      <th>method</th>\n",
       "      <th>runtime</th>\n",
       "    </tr>\n",
       "  </thead>\n",
       "  <tbody>\n",
       "    <tr>\n",
       "      <th>10</th>\n",
       "      <td>2020</td>\n",
       "      <td>cmdstanpy</td>\n",
       "      <td>7.368208</td>\n",
       "    </tr>\n",
       "    <tr>\n",
       "      <th>2</th>\n",
       "      <td>2020</td>\n",
       "      <td>pymc_jax_cpu_parallel</td>\n",
       "      <td>7.543173</td>\n",
       "    </tr>\n",
       "    <tr>\n",
       "      <th>26</th>\n",
       "      <td>2020</td>\n",
       "      <td>pymc_jax_gpu_parallel</td>\n",
       "      <td>7.619804</td>\n",
       "    </tr>\n",
       "    <tr>\n",
       "      <th>7</th>\n",
       "      <td>2019</td>\n",
       "      <td>pymc_jax_cpu_parallel</td>\n",
       "      <td>9.756483</td>\n",
       "    </tr>\n",
       "    <tr>\n",
       "      <th>31</th>\n",
       "      <td>2019</td>\n",
       "      <td>pymc_jax_gpu_parallel</td>\n",
       "      <td>9.758338</td>\n",
       "    </tr>\n",
       "    <tr>\n",
       "      <th>15</th>\n",
       "      <td>2019</td>\n",
       "      <td>cmdstanpy</td>\n",
       "      <td>11.610564</td>\n",
       "    </tr>\n",
       "    <tr>\n",
       "      <th>34</th>\n",
       "      <td>2020</td>\n",
       "      <td>pymc</td>\n",
       "      <td>14.100785</td>\n",
       "    </tr>\n",
       "    <tr>\n",
       "      <th>39</th>\n",
       "      <td>2019</td>\n",
       "      <td>pymc</td>\n",
       "      <td>19.254810</td>\n",
       "    </tr>\n",
       "    <tr>\n",
       "      <th>25</th>\n",
       "      <td>2015</td>\n",
       "      <td>pymc_jax_gpu_parallel</td>\n",
       "      <td>20.717813</td>\n",
       "    </tr>\n",
       "    <tr>\n",
       "      <th>1</th>\n",
       "      <td>2015</td>\n",
       "      <td>pymc_jax_cpu_parallel</td>\n",
       "      <td>20.720483</td>\n",
       "    </tr>\n",
       "    <tr>\n",
       "      <th>18</th>\n",
       "      <td>2020</td>\n",
       "      <td>pymc_jax_gpu_vectorized</td>\n",
       "      <td>27.956263</td>\n",
       "    </tr>\n",
       "    <tr>\n",
       "      <th>9</th>\n",
       "      <td>2015</td>\n",
       "      <td>cmdstanpy</td>\n",
       "      <td>34.078068</td>\n",
       "    </tr>\n",
       "    <tr>\n",
       "      <th>23</th>\n",
       "      <td>2019</td>\n",
       "      <td>pymc_jax_gpu_vectorized</td>\n",
       "      <td>38.011228</td>\n",
       "    </tr>\n",
       "    <tr>\n",
       "      <th>3</th>\n",
       "      <td>2010</td>\n",
       "      <td>pymc_jax_cpu_parallel</td>\n",
       "      <td>39.094711</td>\n",
       "    </tr>\n",
       "    <tr>\n",
       "      <th>27</th>\n",
       "      <td>2010</td>\n",
       "      <td>pymc_jax_gpu_parallel</td>\n",
       "      <td>39.118137</td>\n",
       "    </tr>\n",
       "    <tr>\n",
       "      <th>33</th>\n",
       "      <td>2015</td>\n",
       "      <td>pymc</td>\n",
       "      <td>40.433324</td>\n",
       "    </tr>\n",
       "    <tr>\n",
       "      <th>35</th>\n",
       "      <td>2010</td>\n",
       "      <td>pymc</td>\n",
       "      <td>71.943584</td>\n",
       "    </tr>\n",
       "    <tr>\n",
       "      <th>11</th>\n",
       "      <td>2010</td>\n",
       "      <td>cmdstanpy</td>\n",
       "      <td>71.983311</td>\n",
       "    </tr>\n",
       "    <tr>\n",
       "      <th>17</th>\n",
       "      <td>2015</td>\n",
       "      <td>pymc_jax_gpu_vectorized</td>\n",
       "      <td>99.588901</td>\n",
       "    </tr>\n",
       "    <tr>\n",
       "      <th>4</th>\n",
       "      <td>2000</td>\n",
       "      <td>pymc_jax_cpu_parallel</td>\n",
       "      <td>116.107535</td>\n",
       "    </tr>\n",
       "    <tr>\n",
       "      <th>28</th>\n",
       "      <td>2000</td>\n",
       "      <td>pymc_jax_gpu_parallel</td>\n",
       "      <td>116.148492</td>\n",
       "    </tr>\n",
       "    <tr>\n",
       "      <th>36</th>\n",
       "      <td>2000</td>\n",
       "      <td>pymc</td>\n",
       "      <td>140.734306</td>\n",
       "    </tr>\n",
       "    <tr>\n",
       "      <th>12</th>\n",
       "      <td>2000</td>\n",
       "      <td>cmdstanpy</td>\n",
       "      <td>190.576217</td>\n",
       "    </tr>\n",
       "    <tr>\n",
       "      <th>6</th>\n",
       "      <td>1990</td>\n",
       "      <td>pymc_jax_cpu_parallel</td>\n",
       "      <td>216.962347</td>\n",
       "    </tr>\n",
       "    <tr>\n",
       "      <th>30</th>\n",
       "      <td>1990</td>\n",
       "      <td>pymc_jax_gpu_parallel</td>\n",
       "      <td>217.543437</td>\n",
       "    </tr>\n",
       "    <tr>\n",
       "      <th>38</th>\n",
       "      <td>1990</td>\n",
       "      <td>pymc</td>\n",
       "      <td>221.985832</td>\n",
       "    </tr>\n",
       "    <tr>\n",
       "      <th>19</th>\n",
       "      <td>2010</td>\n",
       "      <td>pymc_jax_gpu_vectorized</td>\n",
       "      <td>230.711418</td>\n",
       "    </tr>\n",
       "    <tr>\n",
       "      <th>14</th>\n",
       "      <td>1990</td>\n",
       "      <td>cmdstanpy</td>\n",
       "      <td>304.674806</td>\n",
       "    </tr>\n",
       "    <tr>\n",
       "      <th>32</th>\n",
       "      <td>1980</td>\n",
       "      <td>pymc</td>\n",
       "      <td>312.522431</td>\n",
       "    </tr>\n",
       "    <tr>\n",
       "      <th>37</th>\n",
       "      <td>1968</td>\n",
       "      <td>pymc</td>\n",
       "      <td>417.013841</td>\n",
       "    </tr>\n",
       "    <tr>\n",
       "      <th>24</th>\n",
       "      <td>1980</td>\n",
       "      <td>pymc_jax_gpu_parallel</td>\n",
       "      <td>437.478833</td>\n",
       "    </tr>\n",
       "    <tr>\n",
       "      <th>0</th>\n",
       "      <td>1980</td>\n",
       "      <td>pymc_jax_cpu_parallel</td>\n",
       "      <td>441.080843</td>\n",
       "    </tr>\n",
       "    <tr>\n",
       "      <th>20</th>\n",
       "      <td>2000</td>\n",
       "      <td>pymc_jax_gpu_vectorized</td>\n",
       "      <td>469.534921</td>\n",
       "    </tr>\n",
       "    <tr>\n",
       "      <th>8</th>\n",
       "      <td>1980</td>\n",
       "      <td>cmdstanpy</td>\n",
       "      <td>587.727744</td>\n",
       "    </tr>\n",
       "    <tr>\n",
       "      <th>29</th>\n",
       "      <td>1968</td>\n",
       "      <td>pymc_jax_gpu_parallel</td>\n",
       "      <td>691.845341</td>\n",
       "    </tr>\n",
       "    <tr>\n",
       "      <th>5</th>\n",
       "      <td>1968</td>\n",
       "      <td>pymc_jax_cpu_parallel</td>\n",
       "      <td>709.246658</td>\n",
       "    </tr>\n",
       "    <tr>\n",
       "      <th>13</th>\n",
       "      <td>1968</td>\n",
       "      <td>cmdstanpy</td>\n",
       "      <td>966.517399</td>\n",
       "    </tr>\n",
       "    <tr>\n",
       "      <th>22</th>\n",
       "      <td>1990</td>\n",
       "      <td>pymc_jax_gpu_vectorized</td>\n",
       "      <td>1346.795512</td>\n",
       "    </tr>\n",
       "    <tr>\n",
       "      <th>21</th>\n",
       "      <td>1968</td>\n",
       "      <td>pymc_jax_gpu_vectorized</td>\n",
       "      <td>2117.270924</td>\n",
       "    </tr>\n",
       "    <tr>\n",
       "      <th>16</th>\n",
       "      <td>1980</td>\n",
       "      <td>pymc_jax_gpu_vectorized</td>\n",
       "      <td>2189.366663</td>\n",
       "    </tr>\n",
       "  </tbody>\n",
       "</table>\n",
       "</div>"
      ],
      "text/plain": [
       "    year                   method      runtime\n",
       "10  2020                cmdstanpy     7.368208\n",
       "2   2020    pymc_jax_cpu_parallel     7.543173\n",
       "26  2020    pymc_jax_gpu_parallel     7.619804\n",
       "7   2019    pymc_jax_cpu_parallel     9.756483\n",
       "31  2019    pymc_jax_gpu_parallel     9.758338\n",
       "15  2019                cmdstanpy    11.610564\n",
       "34  2020                     pymc    14.100785\n",
       "39  2019                     pymc    19.254810\n",
       "25  2015    pymc_jax_gpu_parallel    20.717813\n",
       "1   2015    pymc_jax_cpu_parallel    20.720483\n",
       "18  2020  pymc_jax_gpu_vectorized    27.956263\n",
       "9   2015                cmdstanpy    34.078068\n",
       "23  2019  pymc_jax_gpu_vectorized    38.011228\n",
       "3   2010    pymc_jax_cpu_parallel    39.094711\n",
       "27  2010    pymc_jax_gpu_parallel    39.118137\n",
       "33  2015                     pymc    40.433324\n",
       "35  2010                     pymc    71.943584\n",
       "11  2010                cmdstanpy    71.983311\n",
       "17  2015  pymc_jax_gpu_vectorized    99.588901\n",
       "4   2000    pymc_jax_cpu_parallel   116.107535\n",
       "28  2000    pymc_jax_gpu_parallel   116.148492\n",
       "36  2000                     pymc   140.734306\n",
       "12  2000                cmdstanpy   190.576217\n",
       "6   1990    pymc_jax_cpu_parallel   216.962347\n",
       "30  1990    pymc_jax_gpu_parallel   217.543437\n",
       "38  1990                     pymc   221.985832\n",
       "19  2010  pymc_jax_gpu_vectorized   230.711418\n",
       "14  1990                cmdstanpy   304.674806\n",
       "32  1980                     pymc   312.522431\n",
       "37  1968                     pymc   417.013841\n",
       "24  1980    pymc_jax_gpu_parallel   437.478833\n",
       "0   1980    pymc_jax_cpu_parallel   441.080843\n",
       "20  2000  pymc_jax_gpu_vectorized   469.534921\n",
       "8   1980                cmdstanpy   587.727744\n",
       "29  1968    pymc_jax_gpu_parallel   691.845341\n",
       "5   1968    pymc_jax_cpu_parallel   709.246658\n",
       "13  1968                cmdstanpy   966.517399\n",
       "22  1990  pymc_jax_gpu_vectorized  1346.795512\n",
       "21  1968  pymc_jax_gpu_vectorized  2117.270924\n",
       "16  1980  pymc_jax_gpu_vectorized  2189.366663"
      ]
     },
     "execution_count": 22,
     "metadata": {},
     "output_type": "execute_result"
    }
   ],
   "source": [
    "results.sort_values('runtime')"
   ]
  },
  {
   "cell_type": "code",
   "execution_count": 23,
   "id": "98ca537c",
   "metadata": {},
   "outputs": [],
   "source": [
    "# Fetch the number of data points for each year from the dataset\n",
    "of_interest = results['year'].unique()\n",
    "\n",
    "data = {x: create_arrays(x)['winner_ids'].shape[0] for x in of_interest}"
   ]
  },
  {
   "cell_type": "code",
   "execution_count": 24,
   "id": "b47d51b5",
   "metadata": {},
   "outputs": [],
   "source": [
    "results['n_matches'] = [data[row.year] for row in results.itertuples()]"
   ]
  },
  {
   "cell_type": "code",
   "execution_count": 25,
   "id": "1b4d6baf",
   "metadata": {},
   "outputs": [],
   "source": [
    "total_matches = results['n_matches'].max()"
   ]
  },
  {
   "cell_type": "code",
   "execution_count": 26,
   "id": "f763943e",
   "metadata": {},
   "outputs": [],
   "source": [
    "results['log_matches'] = np.log10(results['n_matches'])"
   ]
  },
  {
   "cell_type": "code",
   "execution_count": 27,
   "id": "6f97872e",
   "metadata": {},
   "outputs": [
    {
     "data": {
      "image/png": "[encoded data removed]",
      "text/plain": [
       "<Figure size 576x360 with 1 Axes>"
      ]
     },
     "metadata": {
      "needs_background": "light"
     },
     "output_type": "display_data"
    }
   ],
   "source": [
    "f, ax = plt.subplots(1, 1)\n",
    "\n",
    "of_interest = ['pymc', 'cmdstanpy', 'pymc_jax_gpu_vectorized', 'pymc_jax_cpu_parallel', 'pymc_jax_gpu_parallel',]\n",
    "\n",
    "colours = sns.color_palette(palette=None, n_colors=len(of_interest))\n",
    "\n",
    "colour_lookup = {x: y for x, y in zip(of_interest, colours)}\n",
    "\n",
    "rel_results = results[results['method'].isin(of_interest)]\n",
    "\n",
    "for cur_method in rel_results['method'].unique():\n",
    "    \n",
    "    cur_data = rel_results[rel_results['method'] == cur_method].sort_values('n_matches')\n",
    "    \n",
    "    linestyle = '--' if 'gpu' in cur_method else None\n",
    "    \n",
    "    ax.plot(cur_data['n_matches'], cur_data['runtime'] / 60, label=cur_method, marker='o', linestyle=linestyle,\n",
    "            color=colour_lookup[cur_method])\n",
    "    \n",
    "ax.set_yscale('log')\n",
    "ax.set_xscale('log')\n",
    "\n",
    "ax.set_xlabel('Number of matches (log scale)')\n",
    "ax.set_ylabel('Runtime in minutes (log scale)')\n",
    "\n",
    "ax.grid(alpha=0.5, linestyle='--')\n",
    "\n",
    "ax.legend()\n",
    "\n",
    "f.set_size_inches(8, 5)\n",
    "f.tight_layout()\n",
    "\n",
    "plt.savefig(join(plot_dir, 'walltime_plot.png'), dpi=300)"
   ]
  },
  {
   "cell_type": "code",
   "execution_count": 28,
   "id": "d3a068fb",
   "metadata": {},
   "outputs": [
    {
     "data": {
      "image/png": "[encoded data removed]",
      "text/plain": [
       "<Figure size 576x288 with 1 Axes>"
      ]
     },
     "metadata": {
      "needs_background": "light"
     },
     "output_type": "display_data"
    }
   ],
   "source": [
    "f, ax = plt.subplots(1, 1)\n",
    "\n",
    "to_plot = rel_results[rel_results['n_matches'] == rel_results['n_matches'].max()].copy()\n",
    "\n",
    "to_plot['runtime (minutes)'] = to_plot['runtime'] / 60\n",
    "\n",
    "to_plot = to_plot.sort_values('runtime (minutes)')\n",
    "\n",
    "colours_to_plot = [colour_lookup[x] for x in to_plot['method']]\n",
    "\n",
    "sns.barplot(x=to_plot['runtime (minutes)'], y=to_plot['method'], ax=ax, palette=colours_to_plot)\n",
    "ax.grid(alpha=0.5)\n",
    "\n",
    "ax.set_title(f'Runtime when using all matches in dataset ({total_matches} matches)')\n",
    "\n",
    "f.set_size_inches(8, 4)\n",
    "f.tight_layout()\n",
    "\n",
    "plt.savefig(join(plot_dir, 'walltime_full.png'), dpi=300)"
   ]
  },
  {
   "cell_type": "code",
   "execution_count": 29,
   "id": "8e62ed38",
   "metadata": {},
   "outputs": [
    {
     "data": {
      "text/plain": [
       "method\n",
       "pymc                       1.000000\n",
       "pymc_jax_gpu_parallel      1.659046\n",
       "pymc_jax_cpu_parallel      1.700775\n",
       "cmdstanpy                  2.317711\n",
       "pymc_jax_gpu_vectorized    5.077220\n",
       "Name: runtime, dtype: float64"
      ]
     },
     "execution_count": 29,
     "metadata": {},
     "output_type": "execute_result"
    }
   ],
   "source": [
    "to_plot = to_plot.set_index('method', drop=False)\n",
    "\n",
    "to_plot['runtime'] / to_plot['runtime'].min()"
   ]
  },
  {
   "cell_type": "code",
   "execution_count": 30,
   "id": "ae20198f",
   "metadata": {},
   "outputs": [
    {
     "data": {
      "text/plain": [
       "method\n",
       "pymc                        6.950231\n",
       "pymc_jax_gpu_parallel      11.530756\n",
       "pymc_jax_cpu_parallel      11.820778\n",
       "cmdstanpy                  16.108623\n",
       "pymc_jax_gpu_vectorized    35.287849\n",
       "Name: runtime, dtype: float64"
      ]
     },
     "execution_count": 30,
     "metadata": {},
     "output_type": "execute_result"
    }
   ],
   "source": [
    "to_plot['runtime'] / 60"
   ]
  },
  {
   "cell_type": "code",
   "execution_count": 31,
   "id": "6e5c1c83",
   "metadata": {},
   "outputs": [],
   "source": [
    "# Compute ESS / second"
   ]
  },
  {
   "cell_type": "code",
   "execution_count": 32,
   "id": "1aa35a9f",
   "metadata": {},
   "outputs": [],
   "source": [
    "all_draws = glob(join(run_dir, '*/*.netcdf'))"
   ]
  },
  {
   "cell_type": "code",
   "execution_count": 33,
   "id": "db9d1d00",
   "metadata": {},
   "outputs": [],
   "source": [
    "def compute_min_ess(arviz_draws):\n",
    "    \n",
    "    min_ess = az.ess(arviz_draws).min()\n",
    "    \n",
    "    return float(min_ess.to_array().min().values)"
   ]
  },
  {
   "cell_type": "code",
   "execution_count": 34,
   "id": "0b15f1ab",
   "metadata": {},
   "outputs": [],
   "source": [
    "min_ess = list(pipe(all_draws,\n",
    "               # Load\n",
    "               lambda x: map(az.from_netcdf, x),\n",
    "               # Compute minimum ESS\n",
    "               lambda x: map(compute_min_ess, x)\n",
    "              ))"
   ]
  },
  {
   "cell_type": "code",
   "execution_count": 35,
   "id": "1e3501fe",
   "metadata": {},
   "outputs": [],
   "source": [
    "draw_info = extract_info(all_draws)"
   ]
  },
  {
   "cell_type": "code",
   "execution_count": 36,
   "id": "f4b3b74f",
   "metadata": {},
   "outputs": [],
   "source": [
    "ess_info = pd.DataFrame({'min_ess': min_ess, 'method': draw_info['method'], 'year': draw_info['year']})"
   ]
  },
  {
   "cell_type": "code",
   "execution_count": 37,
   "id": "c2a06603",
   "metadata": {},
   "outputs": [],
   "source": [
    "with_runtime = ess_info.merge(results)\n",
    "\n",
    "with_runtime['ESS / second'] = with_runtime['min_ess'] / with_runtime['runtime']"
   ]
  },
  {
   "cell_type": "code",
   "execution_count": 38,
   "id": "1be69db0",
   "metadata": {},
   "outputs": [
    {
     "data": {
      "text/html": [
       "<div>\n",
       "<style scoped>\n",
       "    .dataframe tbody tr th:only-of-type {\n",
       "        vertical-align: middle;\n",
       "    }\n",
       "\n",
       "    .dataframe tbody tr th {\n",
       "        vertical-align: top;\n",
       "    }\n",
       "\n",
       "    .dataframe thead th {\n",
       "        text-align: right;\n",
       "    }\n",
       "</style>\n",
       "<table border=\"1\" class=\"dataframe\">\n",
       "  <thead>\n",
       "    <tr style=\"text-align: right;\">\n",
       "      <th></th>\n",
       "      <th>min_ess</th>\n",
       "      <th>method</th>\n",
       "      <th>year</th>\n",
       "      <th>runtime</th>\n",
       "      <th>n_matches</th>\n",
       "      <th>log_matches</th>\n",
       "      <th>ESS / second</th>\n",
       "    </tr>\n",
       "  </thead>\n",
       "  <tbody>\n",
       "    <tr>\n",
       "      <th>0</th>\n",
       "      <td>565.286569</td>\n",
       "      <td>pymc_jax_cpu_parallel</td>\n",
       "      <td>2015</td>\n",
       "      <td>20.720483</td>\n",
       "      <td>17064</td>\n",
       "      <td>4.232081</td>\n",
       "      <td>27.281534</td>\n",
       "    </tr>\n",
       "    <tr>\n",
       "      <th>1</th>\n",
       "      <td>328.566944</td>\n",
       "      <td>pymc_jax_cpu_parallel</td>\n",
       "      <td>2000</td>\n",
       "      <td>116.107535</td>\n",
       "      <td>57877</td>\n",
       "      <td>4.762506</td>\n",
       "      <td>2.829850</td>\n",
       "    </tr>\n",
       "    <tr>\n",
       "      <th>2</th>\n",
       "      <td>466.413961</td>\n",
       "      <td>pymc_jax_cpu_parallel</td>\n",
       "      <td>2010</td>\n",
       "      <td>39.094711</td>\n",
       "      <td>29851</td>\n",
       "      <td>4.474959</td>\n",
       "      <td>11.930360</td>\n",
       "    </tr>\n",
       "    <tr>\n",
       "      <th>3</th>\n",
       "      <td>828.489113</td>\n",
       "      <td>pymc_jax_cpu_parallel</td>\n",
       "      <td>2019</td>\n",
       "      <td>9.756483</td>\n",
       "      <td>6745</td>\n",
       "      <td>3.828982</td>\n",
       "      <td>84.916781</td>\n",
       "    </tr>\n",
       "    <tr>\n",
       "      <th>4</th>\n",
       "      <td>559.851291</td>\n",
       "      <td>pymc_jax_cpu_parallel</td>\n",
       "      <td>1980</td>\n",
       "      <td>441.080843</td>\n",
       "      <td>124484</td>\n",
       "      <td>5.095114</td>\n",
       "      <td>1.269271</td>\n",
       "    </tr>\n",
       "  </tbody>\n",
       "</table>\n",
       "</div>"
      ],
      "text/plain": [
       "      min_ess                 method  year     runtime  n_matches  \\\n",
       "0  565.286569  pymc_jax_cpu_parallel  2015   20.720483      17064   \n",
       "1  328.566944  pymc_jax_cpu_parallel  2000  116.107535      57877   \n",
       "2  466.413961  pymc_jax_cpu_parallel  2010   39.094711      29851   \n",
       "3  828.489113  pymc_jax_cpu_parallel  2019    9.756483       6745   \n",
       "4  559.851291  pymc_jax_cpu_parallel  1980  441.080843     124484   \n",
       "\n",
       "   log_matches  ESS / second  \n",
       "0     4.232081     27.281534  \n",
       "1     4.762506      2.829850  \n",
       "2     4.474959     11.930360  \n",
       "3     3.828982     84.916781  \n",
       "4     5.095114      1.269271  "
      ]
     },
     "execution_count": 38,
     "metadata": {},
     "output_type": "execute_result"
    }
   ],
   "source": [
    "with_runtime.head()"
   ]
  },
  {
   "cell_type": "code",
   "execution_count": 39,
   "id": "2efef930",
   "metadata": {},
   "outputs": [
    {
     "data": {
      "image/png": "[encoded data removed]",
      "text/plain": [
       "<Figure size 576x360 with 1 Axes>"
      ]
     },
     "metadata": {
      "needs_background": "light"
     },
     "output_type": "display_data"
    }
   ],
   "source": [
    "f, ax = plt.subplots(1, 1)\n",
    "\n",
    "rel_results = with_runtime[with_runtime['method'].isin(of_interest)]\n",
    "\n",
    "for cur_method in rel_results['method'].unique():\n",
    "    \n",
    "    cur_data = rel_results[rel_results['method'] == cur_method].sort_values('n_matches')\n",
    "    \n",
    "    linestyle = '--' if 'gpu' in cur_method else None\n",
    "    \n",
    "    ax.plot(cur_data['n_matches'], cur_data['ESS / second'], label=cur_method, marker='o', linestyle=linestyle,\n",
    "            color=colour_lookup[cur_method])\n",
    "    \n",
    "ax.set_yscale('log')\n",
    "ax.set_xscale('log')\n",
    "\n",
    "ax.set_xlabel('Number of matches (log scale)')\n",
    "ax.set_ylabel('Minimum ESS / second (log scale)')\n",
    "\n",
    "ax.grid(alpha=0.5, linestyle='--', which='both')\n",
    "\n",
    "ax.legend(loc='lower left')\n",
    "\n",
    "f.set_size_inches(8, 5)\n",
    "f.tight_layout()\n",
    "\n",
    "plt.savefig(join(plot_dir, 'ess_values.png'), dpi=300)"
   ]
  },
  {
   "cell_type": "code",
   "execution_count": 40,
   "id": "e5e6fe05",
   "metadata": {},
   "outputs": [
    {
     "data": {
      "image/png": "[encoded data removed]",
      "text/plain": [
       "<Figure size 576x288 with 1 Axes>"
      ]
     },
     "metadata": {
      "needs_background": "light"
     },
     "output_type": "display_data"
    }
   ],
   "source": [
    "f, ax = plt.subplots(1, 1)\n",
    "\n",
    "to_plot = rel_results[rel_results['year'] == 1968].sort_values('ESS / second')\n",
    "\n",
    "colours_to_plot = [colour_lookup[x] for x in to_plot['method']]\n",
    "\n",
    "sns.barplot(x=to_plot['ESS / second'], y=to_plot['method'], ax=ax, palette=colours_to_plot)\n",
    "\n",
    "ax.grid(alpha=0.5)\n",
    "\n",
    "ax.set_title(f'ESS / second when using all matches in dataset ({total_matches} matches)')\n",
    "\n",
    "f.set_size_inches(8, 4)\n",
    "f.tight_layout()\n",
    "\n",
    "plt.savefig(join(plot_dir, 'ess_per_second_full.png'), dpi=300)"
   ]
  },
  {
   "cell_type": "code",
   "execution_count": 41,
   "id": "96d57e7c",
   "metadata": {},
   "outputs": [
    {
     "data": {
      "text/plain": [
       "method\n",
       "pymc_jax_gpu_vectorized    3.622780\n",
       "cmdstanpy                  1.926070\n",
       "pymc_jax_cpu_parallel      1.381133\n",
       "pymc_jax_gpu_parallel      1.347247\n",
       "pymc                       1.000000\n",
       "Name: ESS / second, dtype: float64"
      ]
     },
     "execution_count": 41,
     "metadata": {},
     "output_type": "execute_result"
    }
   ],
   "source": [
    "rel = to_plot.set_index('method', drop=False)\n",
    "\n",
    "rel['ESS / second'].max() / rel['ESS / second']"
   ]
  },
  {
   "cell_type": "code",
   "execution_count": 42,
   "id": "6e09dcc8",
   "metadata": {},
   "outputs": [
    {
     "data": {
      "text/plain": [
       "2.897435897435898"
      ]
     },
     "execution_count": 42,
     "metadata": {},
     "output_type": "execute_result"
    }
   ],
   "source": [
    "11.3 / 3.9"
   ]
  },
  {
   "cell_type": "code",
   "execution_count": 43,
   "id": "9e3bd3a2",
   "metadata": {},
   "outputs": [],
   "source": [
    "# Check estimates agree\n",
    "\n",
    "stan_res = az.from_netcdf(join(run_dir, 'cmdstanpy/samples_1968.netcdf'))"
   ]
  },
  {
   "cell_type": "code",
   "execution_count": 44,
   "id": "21b728d2",
   "metadata": {},
   "outputs": [
    {
     "data": {
      "text/plain": [
       "['posterior', 'sample_stats']"
      ]
     },
     "execution_count": 44,
     "metadata": {},
     "output_type": "execute_result"
    }
   ],
   "source": [
    "list(stan_res.keys())"
   ]
  },
  {
   "cell_type": "code",
   "execution_count": 45,
   "id": "5e0d7e0b",
   "metadata": {},
   "outputs": [],
   "source": [
    "p_skills = stan_res.posterior['player_skills']\n",
    "\n",
    "player_means_stan = p_skills.values.mean(axis=(0, 1))\n",
    "player_sds_stan = p_skills.values.std(axis=(0, 1))"
   ]
  },
  {
   "cell_type": "code",
   "execution_count": 46,
   "id": "7b7c4bd8",
   "metadata": {},
   "outputs": [],
   "source": [
    "pymc3_res = az.from_netcdf(join(run_dir, 'pymc/samples_1968.netcdf'))"
   ]
  },
  {
   "cell_type": "code",
   "execution_count": 47,
   "id": "1da323ad",
   "metadata": {},
   "outputs": [],
   "source": [
    "p_skills_pymc3 = pymc3_res.posterior['player_skills'].mean(dim=('chain', 'draw'))\n",
    "p_skills_pymc3_sd = pymc3_res.posterior['player_skills'].std(dim=('chain', 'draw'))"
   ]
  },
  {
   "cell_type": "code",
   "execution_count": 48,
   "id": "87c4eb57",
   "metadata": {},
   "outputs": [],
   "source": [
    "# Load data for 1968 to get player names\n",
    "cur_data = create_arrays(1968)\n",
    "\n",
    "jax_res = az.from_netcdf(join(run_dir, 'pymc_jax_gpu_vectorized/samples_1968.netcdf'))"
   ]
  },
  {
   "cell_type": "code",
   "execution_count": 49,
   "id": "c883ac85",
   "metadata": {},
   "outputs": [
    {
     "data": {
      "text/plain": [
       "LabelEncoder()"
      ]
     },
     "execution_count": 49,
     "metadata": {},
     "output_type": "execute_result"
    }
   ],
   "source": [
    "cur_data['player_encoder']"
   ]
  },
  {
   "cell_type": "code",
   "execution_count": 50,
   "id": "677faf61",
   "metadata": {},
   "outputs": [],
   "source": [
    "p_skills_jax = jax_res.posterior['player_skills'].mean(dim=('chain', 'draw'))\n",
    "p_skills_jax_sd = jax_res.posterior['player_skills'].std(dim=('chain', 'draw'))"
   ]
  },
  {
   "cell_type": "code",
   "execution_count": 51,
   "id": "0dd72657",
   "metadata": {},
   "outputs": [
    {
     "data": {
      "image/png": "[encoded data removed]",
      "text/plain": [
       "<Figure size 864x288 with 3 Axes>"
      ]
     },
     "metadata": {
      "needs_background": "light"
     },
     "output_type": "display_data"
    }
   ],
   "source": [
    "f, ax = plt.subplots(1, 3)\n",
    "\n",
    "ax[0].scatter(p_skills_jax.values.reshape(-1), p_skills_pymc3.values.reshape(-1))\n",
    "ax[0].plot([p_skills_jax.min(), p_skills_jax.max()], [p_skills_jax.min(), p_skills_jax.max()])\n",
    "\n",
    "ax[1].scatter(p_skills_jax.values.reshape(-1), player_means_stan.reshape(-1))\n",
    "ax[1].plot([p_skills_jax.min(), p_skills_jax.max()], [p_skills_jax.min(), p_skills_jax.max()])\n",
    "\n",
    "ax[2].scatter(p_skills_pymc3.values.reshape(-1), player_means_stan.reshape(-1))\n",
    "ax[2].plot([p_skills_pymc3.min(), p_skills_pymc3.max()], [p_skills_pymc3.min(), p_skills_pymc3.max()])\n",
    "\n",
    "ax[0].set_xlabel('JAX GPU means')\n",
    "ax[0].set_ylabel('PyMC means')\n",
    "\n",
    "ax[1].set_xlabel('JAX GPU means')\n",
    "ax[1].set_ylabel('Stan means')\n",
    "\n",
    "ax[2].set_xlabel('PyMC means')\n",
    "ax[2].set_ylabel('Stan means')\n",
    "\n",
    "f.set_size_inches(12, 4)\n",
    "f.tight_layout()\n",
    "\n",
    "plt.savefig(join(plot_dir, 'mean_comparison.png'), dpi=300)"
   ]
  },
  {
   "cell_type": "code",
   "execution_count": 52,
   "id": "b27cfdcc",
   "metadata": {},
   "outputs": [
    {
     "data": {
      "image/png": "[encoded data removed]",
      "text/plain": [
       "<Figure size 864x288 with 3 Axes>"
      ]
     },
     "metadata": {
      "needs_background": "light"
     },
     "output_type": "display_data"
    }
   ],
   "source": [
    "f, ax = plt.subplots(1, 3)\n",
    "\n",
    "ax[0].scatter(p_skills_jax_sd.values.reshape(-1), p_skills_pymc3_sd.values.reshape(-1))\n",
    "ax[0].plot([p_skills_jax_sd.min(), p_skills_jax_sd.max()], [p_skills_jax_sd.min(), p_skills_jax_sd.max()])\n",
    "\n",
    "ax[1].scatter(p_skills_jax_sd.values.reshape(-1), player_sds_stan.reshape(-1))\n",
    "ax[1].plot([p_skills_jax_sd.min(), p_skills_jax_sd.max()], [p_skills_jax_sd.min(), p_skills_jax_sd.max()])\n",
    "\n",
    "ax[2].scatter(p_skills_pymc3_sd.values.reshape(-1), player_sds_stan.reshape(-1))\n",
    "ax[2].plot([p_skills_pymc3_sd.min(), p_skills_pymc3_sd.max()], [p_skills_pymc3_sd.min(), p_skills_pymc3_sd.max()])\n",
    "\n",
    "ax[0].set_xlabel('JAX GPU sds')\n",
    "ax[0].set_ylabel('PyMC sds')\n",
    "\n",
    "ax[1].set_xlabel('JAX GPU sds')\n",
    "ax[1].set_ylabel('Stan sds')\n",
    "\n",
    "ax[2].set_xlabel('PyMC sds')\n",
    "ax[2].set_ylabel('Stan sds')\n",
    "\n",
    "f.set_size_inches(12, 4)\n",
    "f.tight_layout()\n",
    "\n",
    "plt.savefig(join(plot_dir, 'sd_comparison.png'), dpi=300)"
   ]
  },
  {
   "cell_type": "code",
   "execution_count": 53,
   "id": "c380c906",
   "metadata": {},
   "outputs": [
    {
     "data": {
      "text/plain": [
       "(4, 1000, 4825)"
      ]
     },
     "execution_count": 53,
     "metadata": {},
     "output_type": "execute_result"
    }
   ],
   "source": [
    "p_skills.shape"
   ]
  },
  {
   "cell_type": "code",
   "execution_count": 54,
   "id": "396408fe",
   "metadata": {},
   "outputs": [
    {
     "data": {
      "text/plain": [
       "(4825,)"
      ]
     },
     "execution_count": 54,
     "metadata": {},
     "output_type": "execute_result"
    }
   ],
   "source": [
    "p_skills_jax.shape"
   ]
  },
  {
   "cell_type": "code",
   "execution_count": 55,
   "id": "3e982630",
   "metadata": {},
   "outputs": [
    {
     "ename": "ImportError",
     "evalue": "Missing optional dependency 'tabulate'.  Use pip or conda to install tabulate.",
     "output_type": "error",
     "traceback": [
      "\u001b[0;31m---------------------------------------------------------------------------\u001b[0m",
      "\u001b[0;31mModuleNotFoundError\u001b[0m                       Traceback (most recent call last)",
      "File \u001b[0;32m~/anaconda3/envs/pymc-dev-py39-gpu/lib/python3.9/site-packages/pandas/compat/_optional.py:126\u001b[0m, in \u001b[0;36mimport_optional_dependency\u001b[0;34m(name, extra, errors, min_version)\u001b[0m\n\u001b[1;32m    125\u001b[0m \u001b[38;5;28;01mtry\u001b[39;00m:\n\u001b[0;32m--> 126\u001b[0m     module \u001b[38;5;241m=\u001b[39m \u001b[43mimportlib\u001b[49m\u001b[38;5;241;43m.\u001b[39;49m\u001b[43mimport_module\u001b[49m\u001b[43m(\u001b[49m\u001b[43mname\u001b[49m\u001b[43m)\u001b[49m\n\u001b[1;32m    127\u001b[0m \u001b[38;5;28;01mexcept\u001b[39;00m \u001b[38;5;167;01mImportError\u001b[39;00m:\n",
      "File \u001b[0;32m~/anaconda3/envs/pymc-dev-py39-gpu/lib/python3.9/importlib/__init__.py:127\u001b[0m, in \u001b[0;36mimport_module\u001b[0;34m(name, package)\u001b[0m\n\u001b[1;32m    126\u001b[0m         level \u001b[38;5;241m+\u001b[39m\u001b[38;5;241m=\u001b[39m \u001b[38;5;241m1\u001b[39m\n\u001b[0;32m--> 127\u001b[0m \u001b[38;5;28;01mreturn\u001b[39;00m \u001b[43m_bootstrap\u001b[49m\u001b[38;5;241;43m.\u001b[39;49m\u001b[43m_gcd_import\u001b[49m\u001b[43m(\u001b[49m\u001b[43mname\u001b[49m\u001b[43m[\u001b[49m\u001b[43mlevel\u001b[49m\u001b[43m:\u001b[49m\u001b[43m]\u001b[49m\u001b[43m,\u001b[49m\u001b[43m \u001b[49m\u001b[43mpackage\u001b[49m\u001b[43m,\u001b[49m\u001b[43m \u001b[49m\u001b[43mlevel\u001b[49m\u001b[43m)\u001b[49m\n",
      "File \u001b[0;32m<frozen importlib._bootstrap>:1030\u001b[0m, in \u001b[0;36m_gcd_import\u001b[0;34m(name, package, level)\u001b[0m\n",
      "File \u001b[0;32m<frozen importlib._bootstrap>:1007\u001b[0m, in \u001b[0;36m_find_and_load\u001b[0;34m(name, import_)\u001b[0m\n",
      "File \u001b[0;32m<frozen importlib._bootstrap>:984\u001b[0m, in \u001b[0;36m_find_and_load_unlocked\u001b[0;34m(name, import_)\u001b[0m\n",
      "\u001b[0;31mModuleNotFoundError\u001b[0m: No module named 'tabulate'",
      "\nDuring handling of the above exception, another exception occurred:\n",
      "\u001b[0;31mImportError\u001b[0m                               Traceback (most recent call last)",
      "Input \u001b[0;32mIn [55]\u001b[0m, in \u001b[0;36m<module>\u001b[0;34m\u001b[0m\n\u001b[0;32m----> 1\u001b[0m \u001b[38;5;28mprint\u001b[39m(\u001b[43mpd\u001b[49m\u001b[38;5;241;43m.\u001b[39;49m\u001b[43mDataFrame\u001b[49m\u001b[43m(\u001b[49m\u001b[43m{\u001b[49m\u001b[38;5;124;43m'\u001b[39;49m\u001b[38;5;124;43mmean_skill\u001b[39;49m\u001b[38;5;124;43m'\u001b[39;49m\u001b[43m:\u001b[49m\u001b[43m \u001b[49m\u001b[43mp_skills_jax\u001b[49m\u001b[43m,\u001b[49m\u001b[43m \u001b[49m\u001b[38;5;124;43m'\u001b[39;49m\u001b[38;5;124;43mskill_sd\u001b[39;49m\u001b[38;5;124;43m'\u001b[39;49m\u001b[43m:\u001b[49m\u001b[43m \u001b[49m\u001b[43mp_skills_jax_sd\u001b[49m\u001b[43m}\u001b[49m\u001b[43m,\u001b[49m\u001b[43m \u001b[49m\u001b[43mindex\u001b[49m\u001b[38;5;241;43m=\u001b[39;49m\u001b[43mcur_data\u001b[49m\u001b[43m[\u001b[49m\u001b[38;5;124;43m'\u001b[39;49m\u001b[38;5;124;43mplayer_encoder\u001b[39;49m\u001b[38;5;124;43m'\u001b[39;49m\u001b[43m]\u001b[49m\u001b[38;5;241;43m.\u001b[39;49m\u001b[43mclasses_\u001b[49m\u001b[43m)\u001b[49m\u001b[38;5;241;43m.\u001b[39;49m\u001b[43msort_values\u001b[49m\u001b[43m(\u001b[49m\u001b[38;5;124;43m'\u001b[39;49m\u001b[38;5;124;43mmean_skill\u001b[39;49m\u001b[38;5;124;43m'\u001b[39;49m\u001b[43m,\u001b[49m\u001b[43m \u001b[49m\u001b[43mascending\u001b[49m\u001b[38;5;241;43m=\u001b[39;49m\u001b[38;5;28;43;01mFalse\u001b[39;49;00m\u001b[43m)\u001b[49m\u001b[38;5;241;43m.\u001b[39;49m\u001b[43mhead\u001b[49m\u001b[43m(\u001b[49m\u001b[38;5;241;43m20\u001b[39;49m\u001b[43m)\u001b[49m\u001b[38;5;241;43m.\u001b[39;49m\u001b[43mround\u001b[49m\u001b[43m(\u001b[49m\u001b[38;5;241;43m2\u001b[39;49m\u001b[43m)\u001b[49m\u001b[38;5;241;43m.\u001b[39;49m\u001b[43mto_markdown\u001b[49m\u001b[43m(\u001b[49m\u001b[43m)\u001b[49m)\n",
      "File \u001b[0;32m~/anaconda3/envs/pymc-dev-py39-gpu/lib/python3.9/site-packages/pandas/core/frame.py:2728\u001b[0m, in \u001b[0;36mDataFrame.to_markdown\u001b[0;34m(self, buf, mode, index, storage_options, **kwargs)\u001b[0m\n\u001b[1;32m   2726\u001b[0m kwargs\u001b[38;5;241m.\u001b[39msetdefault(\u001b[38;5;124m\"\u001b[39m\u001b[38;5;124mtablefmt\u001b[39m\u001b[38;5;124m\"\u001b[39m, \u001b[38;5;124m\"\u001b[39m\u001b[38;5;124mpipe\u001b[39m\u001b[38;5;124m\"\u001b[39m)\n\u001b[1;32m   2727\u001b[0m kwargs\u001b[38;5;241m.\u001b[39msetdefault(\u001b[38;5;124m\"\u001b[39m\u001b[38;5;124mshowindex\u001b[39m\u001b[38;5;124m\"\u001b[39m, index)\n\u001b[0;32m-> 2728\u001b[0m tabulate \u001b[38;5;241m=\u001b[39m \u001b[43mimport_optional_dependency\u001b[49m\u001b[43m(\u001b[49m\u001b[38;5;124;43m\"\u001b[39;49m\u001b[38;5;124;43mtabulate\u001b[39;49m\u001b[38;5;124;43m\"\u001b[39;49m\u001b[43m)\u001b[49m\n\u001b[1;32m   2729\u001b[0m result \u001b[38;5;241m=\u001b[39m tabulate\u001b[38;5;241m.\u001b[39mtabulate(\u001b[38;5;28mself\u001b[39m, \u001b[38;5;241m*\u001b[39m\u001b[38;5;241m*\u001b[39mkwargs)\n\u001b[1;32m   2730\u001b[0m \u001b[38;5;28;01mif\u001b[39;00m buf \u001b[38;5;129;01mis\u001b[39;00m \u001b[38;5;28;01mNone\u001b[39;00m:\n",
      "File \u001b[0;32m~/anaconda3/envs/pymc-dev-py39-gpu/lib/python3.9/site-packages/pandas/compat/_optional.py:129\u001b[0m, in \u001b[0;36mimport_optional_dependency\u001b[0;34m(name, extra, errors, min_version)\u001b[0m\n\u001b[1;32m    127\u001b[0m \u001b[38;5;28;01mexcept\u001b[39;00m \u001b[38;5;167;01mImportError\u001b[39;00m:\n\u001b[1;32m    128\u001b[0m     \u001b[38;5;28;01mif\u001b[39;00m errors \u001b[38;5;241m==\u001b[39m \u001b[38;5;124m\"\u001b[39m\u001b[38;5;124mraise\u001b[39m\u001b[38;5;124m\"\u001b[39m:\n\u001b[0;32m--> 129\u001b[0m         \u001b[38;5;28;01mraise\u001b[39;00m \u001b[38;5;167;01mImportError\u001b[39;00m(msg)\n\u001b[1;32m    130\u001b[0m     \u001b[38;5;28;01melse\u001b[39;00m:\n\u001b[1;32m    131\u001b[0m         \u001b[38;5;28;01mreturn\u001b[39;00m \u001b[38;5;28;01mNone\u001b[39;00m\n",
      "\u001b[0;31mImportError\u001b[0m: Missing optional dependency 'tabulate'.  Use pip or conda to install tabulate."
     ]
    }
   ],
   "source": [
    "print(pd.DataFrame({'mean_skill': p_skills_jax, 'skill_sd': p_skills_jax_sd}, index=cur_data['player_encoder'].classes_).sort_values('mean_skill', ascending=False).head(20).round(2).to_markdown())"
   ]
  },
  {
   "cell_type": "code",
   "execution_count": null,
   "id": "080183a7",
   "metadata": {},
   "outputs": [],
   "source": []
  },
  {
   "cell_type": "code",
   "execution_count": null,
   "id": "83cd2799-7bae-47e3-adb9-b5a1ca3a8899",
   "metadata": {},
   "outputs": [],
   "source": []
  },
  {
   "cell_type": "code",
   "execution_count": null,
   "id": "dd53775e-732d-4f17-9366-5f319880e785",
   "metadata": {},
   "outputs": [],
   "source": []
  }
 ],
 "metadata": {
  "kernelspec": {
   "display_name": "pymc40_conda_gpu",
   "language": "python",
   "name": "pymc_conda"
  },
  "language_info": {
   "codemirror_mode": {
    "name": "ipython",
    "version": 3
   },
   "file_extension": ".py",
   "mimetype": "text/x-python",
   "name": "python",
   "nbconvert_exporter": "python",
   "pygments_lexer": "ipython3",
   "version": "3.9.10"
  }
 },
 "nbformat": 4,
 "nbformat_minor": 5
}
